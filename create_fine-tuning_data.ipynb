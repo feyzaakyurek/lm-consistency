{
 "cells": [
  {
   "cell_type": "code",
   "execution_count": 1,
   "metadata": {},
   "outputs": [],
   "source": [
    "# Create fine-tuning dataset.\n",
    "input_prompt = \"\"\"[INST] <<SYS>>\n",
    "{system_prompt}\n",
    "<</SYS>>\n",
    "\n",
    "{user_msg} [/INST]\"\"\"\n",
    "system_prompt = \"Evaluate the following claim and answer only with true or false.\""
   ]
  },
  {
   "cell_type": "code",
   "execution_count": null,
   "metadata": {},
   "outputs": [],
   "source": [
    "# original\n",
    "import pandas as pd\n",
    "\n",
    "# Set seed\n",
    "import random\n",
    "random.seed(42)\n",
    "\n",
    "for num in [1000, 2000]:\n",
    "    creak_train = pd.read_json(\"/projectnb/llamagrp/feyzanb/creak/data/creak/train.json\", lines=True)\n",
    "    creak_train = creak_train[['sentence', 'label']][:num]\n",
    "    creak_train['label'] = creak_train['label'].apply(lambda x: 'True.' if x == 'true' else 'False.')\n",
    "    creak_train['input_prompt'] = creak_train.apply(lambda x: input_prompt.format(system_prompt=system_prompt, user_msg=x['sentence']), axis=1)\n",
    "    creak_train = creak_train.drop(columns=['sentence'])\n",
    "    creak_train = creak_train.sample(frac=1, random_state=42)\n",
    "    creak_train.to_csv(f\"creak_n{str(num)}/creak_train_original.csv\", index=False)\n"
   ]
  },
  {
   "cell_type": "code",
   "execution_count": null,
   "metadata": {},
   "outputs": [],
   "source": [
    "# contradiction\n",
    "import pandas as pd\n",
    "for num in [1000, 2000]: #, 500, 1000]:\n",
    "    creak_train = pd.read_json(\"/projectnb/llamagrp/feyzanb/creak/data/creak/train.json\", lines=True)\n",
    "    creak_train = creak_train[['sentence', 'label']][:num]\n",
    "    path = f\"creak_n{str(num)}/claims.json\"\n",
    "    df = pd.read_json(path, lines=True)\n",
    "    contradiction = df.loc[df['sentence_sentence_similar_contradicting_cont'] == 1]\n",
    "    contradiction = contradiction['sentence_similar_contradicting'].to_list()\n",
    "    for c in contradiction:\n",
    "        creak_train = creak_train.append({'sentence': c, 'label': 'false'}, ignore_index=True)\n",
    "    creak_train['label'] = creak_train['label'].apply(lambda x: 'True.' if x == 'true' else 'False.')\n",
    "    creak_train['input_prompt'] = creak_train.apply(lambda x: input_prompt.format(system_prompt=system_prompt, user_msg=x['sentence']), axis=1)\n",
    "    creak_train = creak_train.drop(columns=['sentence'])\n",
    "    creak_train = creak_train.sample(frac=1, random_state=42)\n",
    "    creak_train.to_csv(f\"creak_n{str(num)}/creak_train_contradiction.csv\", index=False)\n"
   ]
  },
  {
   "cell_type": "code",
   "execution_count": 8,
   "metadata": {},
   "outputs": [],
   "source": [
    "#implication (with filter)\n",
    "filtered = True\n",
    "suffix = \"_filtered\" if filtered else \"\"\n",
    "\n",
    "import pandas as pd\n",
    "for num in [1000]: #, 500, 1000]:\n",
    "    creak_train = pd.read_json(\"/projectnb/llamagrp/feyzanb/creak/data/creak/train.json\", lines=True)\n",
    "    creak_train = creak_train[['sentence', 'label']][:num]\n",
    "    path = f\"creak_n{str(num)}/claims_implication.json\"\n",
    "    df = pd.read_json(path, lines=True)\n",
    "    if filtered:\n",
    "        df = df.loc[df['sentence_sentence_implication_implied'] == 1]\n",
    "    implication = df['sentence_implication'].to_list()\n",
    "    for c in implication:\n",
    "        creak_train = creak_train.append({'sentence': c, 'label': 'true'}, ignore_index=True)\n",
    "    creak_train['label'] = creak_train['label'].apply(lambda x: 'True.' if x == 'true' else 'False.')\n",
    "    creak_train['input_prompt'] = creak_train.apply(lambda x: input_prompt.format(system_prompt=system_prompt, user_msg=x['sentence']), axis=1)\n",
    "    creak_train = creak_train.drop(columns=['sentence'])\n",
    "    creak_train = creak_train.sample(frac=1, random_state=42)\n",
    "    creak_train.to_csv(f\"creak_n{str(num)}/creak_train_implication{suffix}.csv\", index=False)"
   ]
  },
  {
   "cell_type": "code",
   "execution_count": 9,
   "metadata": {},
   "outputs": [],
   "source": [
    "# implication (with filter) + contradiction\n",
    "filtered = True\n",
    "suffix = \"_filtered\" if filtered else \"\"\n",
    "\n",
    "import pandas as pd\n",
    "for num in [1000]: #, 500, 1000]:\n",
    "    creak_train = pd.read_json(\"/projectnb/llamagrp/feyzanb/creak/data/creak/train.json\", lines=True)\n",
    "    creak_train = creak_train[['sentence', 'label']][:num]\n",
    "\n",
    "    # add contradiction\n",
    "    path = f\"creak_n{str(num)}/claims.json\"\n",
    "    df = pd.read_json(path, lines=True)\n",
    "    contradiction = df.loc[df['sentence_sentence_similar_contradicting_cont'] == 1]\n",
    "    contradiction = contradiction['sentence_similar_contradicting'].to_list()\n",
    "    for c in contradiction:\n",
    "        creak_train = creak_train.append({'sentence': c, 'label': 'false'}, ignore_index=True)\n",
    "\n",
    "    # add implication\n",
    "    path = f\"creak_n{str(num)}/claims_implication.json\"\n",
    "    df = pd.read_json(path, lines=True)\n",
    "    if filtered:\n",
    "        df = df.loc[df['sentence_sentence_implication_implied'] == 1]\n",
    "    implication = df['sentence_implication'].to_list()\n",
    "    for c in df:\n",
    "        creak_train = creak_train.append({'sentence': c, 'label': 'true'}, ignore_index=True)\n",
    "\n",
    "    creak_train['label'] = creak_train['label'].apply(lambda x: 'True.' if x == 'true' else 'False.')\n",
    "    creak_train['input_prompt'] = creak_train.apply(lambda x: input_prompt.format(system_prompt=system_prompt, user_msg=x['sentence']), axis=1)\n",
    "    creak_train = creak_train.drop(columns=['sentence'])\n",
    "    creak_train = creak_train.sample(frac=1, random_state=42)\n",
    "    creak_train.to_csv(f\"creak_n{str(num)}/creak_train_contradiction_implication{suffix}.csv\", index=False)"
   ]
  }
 ],
 "metadata": {
  "kernelspec": {
   "display_name": "dune",
   "language": "python",
   "name": "python3"
  },
  "language_info": {
   "codemirror_mode": {
    "name": "ipython",
    "version": 3
   },
   "file_extension": ".py",
   "mimetype": "text/x-python",
   "name": "python",
   "nbconvert_exporter": "python",
   "pygments_lexer": "ipython3",
   "version": "3.9.16"
  },
  "orig_nbformat": 4
 },
 "nbformat": 4,
 "nbformat_minor": 2
}
